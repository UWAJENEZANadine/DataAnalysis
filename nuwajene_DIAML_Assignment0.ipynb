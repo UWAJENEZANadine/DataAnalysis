{
 "cells": [
  {
   "cell_type": "code",
   "execution_count": 2,
   "id": "4e03516d",
   "metadata": {},
   "outputs": [
    {
     "name": "stdout",
     "output_type": "stream",
     "text": [
      "Hello Data Inference and Applied Machine Learning\n"
     ]
    }
   ],
   "source": [
    "#Question 1\n",
    "\n",
    "#This program is going to print a Message in python.\n",
    "print(\"Hello Data Inference and Applied Machine Learning\")"
   ]
  },
  {
   "cell_type": "code",
   "execution_count": 6,
   "id": "5ff3bcae",
   "metadata": {},
   "outputs": [
    {
     "name": "stdout",
     "output_type": "stream",
     "text": [
      "7.477908470798733\n"
     ]
    }
   ],
   "source": [
    "#question 2\n",
    "\n",
    "#This program is going to define a famous mathematical constants and print out it's sum\n",
    "\n",
    "#Furthermore I am going to import Math module for gives the access to the undelying C library function.\n",
    "\n",
    "import math\n",
    "\n",
    "#define pi\n",
    "pi=math.pi #pi is the ratio of circumference of a circle to its diameter\n",
    "\n",
    "#define Euler's constant(e)\n",
    "e=math.e\n",
    "\n",
    "#define the golden Ratio \n",
    "phi=(1 + math.sqrt(5))/2\n",
    "\n",
    "#Finally, define the variable sum that is going to add those three constants\n",
    "sum = pi + e + phi #this is a line for adding three constants\n",
    "print(sum)"
   ]
  },
  {
   "cell_type": "code",
   "execution_count": null,
   "id": "55fcd106",
   "metadata": {},
   "outputs": [],
   "source": []
  }
 ],
 "metadata": {
  "kernelspec": {
   "display_name": "Python 3 (ipykernel)",
   "language": "python",
   "name": "python3"
  },
  "language_info": {
   "codemirror_mode": {
    "name": "ipython",
    "version": 3
   },
   "file_extension": ".py",
   "mimetype": "text/x-python",
   "name": "python",
   "nbconvert_exporter": "python",
   "pygments_lexer": "ipython3",
   "version": "3.11.4"
  }
 },
 "nbformat": 4,
 "nbformat_minor": 5
}
